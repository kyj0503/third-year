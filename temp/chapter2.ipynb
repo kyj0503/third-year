{
 "cells": [
  {
   "cell_type": "code",
   "execution_count": 2,
   "metadata": {},
   "outputs": [
    {
     "name": "stdout",
     "output_type": "stream",
     "text": [
      "**로또 번호 생성을 시작합니다.**\n",
      "자동번호 ->  3  9 23 28 36 43 \n",
      "자동번호 ->  3  9 14 15 17 25 \n",
      "자동번호 ->  8 18 25 26 31 32 \n",
      "자동번호 ->  2 13 16 26 27 39 \n",
      "자동번호 ->  6 14 15 17 30 41 \n",
      "자동번호 ->  9 13 14 15 22 35 \n"
     ]
    }
   ],
   "source": [
    "#자동 로또 번호 생성기\n",
    "\n",
    "import random\n",
    "\n",
    "##전역 변수 선언 부분\n",
    "totalLotto = []\n",
    "lotto = []\n",
    "pickNum = 0\n",
    "count = 0 \n",
    "\n",
    "##메인 코드 부분\n",
    "print(\"**로또 번호 생성을 시작합니다.**\")\n",
    "count = int(input('몇번을 뽑을까요?'))\n",
    "\n",
    "for _ in range(count):\n",
    "    lotto = []\n",
    "    while True:\n",
    "        pickNum = random.randint(1, 45)\n",
    "        if pickNum not in lotto:\n",
    "            lotto.append(pickNum)\n",
    "        if len(lotto) >= 6:\n",
    "            break\n",
    "    totalLotto.append(lotto)\n",
    "\n",
    "for lotto in totalLotto:\n",
    "    lotto.sort()\n",
    "    print('자동번호 ->', end = ' ')\n",
    "    for i in range(0, 6):\n",
    "        print(\"%2d\" % lotto[i], end = ' ')\n",
    "    print()"
   ]
  },
  {
   "cell_type": "code",
   "execution_count": 1,
   "metadata": {},
   "outputs": [
    {
     "name": "stdout",
     "output_type": "stream",
     "text": [
      "원문 \n",
      "나 보기가 역겨워 가실 때에는 말없이 고이 보내 드리오리다\n",
      "영변의 약산 진달래꽃 아름 따다 가실 길에 뿌리오리다\n",
      "가시는 걸음 걸음 놓인 그 꽃을 사뿐히 즈려 밟고 가시옵소서\n",
      "나 보기가 역겨워 가실 때에는 죽어도 아니 눈물 흘리오리다\n",
      "\n",
      "---------------\n",
      "문자 빈도수 4회 이상\n",
      "---------------\n",
      "가 --> 7\n",
      "리 --> 6\n",
      "다 --> 4\n"
     ]
    }
   ],
   "source": [
    "#가장 많이 나온 글자 세기\n",
    "poet = '''\n",
    "나 보기가 역겨워 가실 때에는 말없이 고이 보내 드리오리다\n",
    "영변의 약산 진달래꽃 아름 따다 가실 길에 뿌리오리다\n",
    "가시는 걸음 걸음 놓인 그 꽃을 사뿐히 즈려 밟고 가시옵소서\n",
    "나 보기가 역겨워 가실 때에는 죽어도 아니 눈물 흘리오리다\n",
    "'''\n",
    "\n",
    "countDic = {}\n",
    "\n",
    "##메인 코드 부분\n",
    "if __name__ == \"__main__\":\n",
    "    for ch in poet:\n",
    "        if ch.isalpha():\n",
    "            if ch in countDic:\n",
    "                countDic[ch] += 1\n",
    "            else:\n",
    "                countDic[ch] = 1\n",
    "\n",
    "    print('원문', poet)\n",
    "    print('---------------')\n",
    "    print('문자 빈도수 4회 이상')\n",
    "    print('---------------')\n",
    "    for key in countDic:\n",
    "        if countDic[key] >= 4:\n",
    "            print(key, '-->', countDic[key])"
   ]
  },
  {
   "cell_type": "code",
   "execution_count": null,
   "metadata": {},
   "outputs": [],
   "source": []
  }
 ],
 "metadata": {
  "kernelspec": {
   "display_name": "base",
   "language": "python",
   "name": "python3"
  },
  "language_info": {
   "codemirror_mode": {
    "name": "ipython",
    "version": 3
   },
   "file_extension": ".py",
   "mimetype": "text/x-python",
   "name": "python",
   "nbconvert_exporter": "python",
   "pygments_lexer": "ipython3",
   "version": "3.11.7"
  }
 },
 "nbformat": 4,
 "nbformat_minor": 2
}
