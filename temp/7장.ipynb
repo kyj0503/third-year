{
 "cells": [
  {
   "cell_type": "markdown",
   "id": "4c344708-a229-45c9-8ad5-f7a6b5e62e53",
   "metadata": {},
   "source": [
    "정리 노트 #5\n",
    "\n",
    "소프트웨어 202284011 김연재"
   ]
  },
  {
   "cell_type": "markdown",
   "id": "09ee640b-6434-45f8-ad20-0d22820e64f9",
   "metadata": {},
   "source": [
    "4차원 데이터 예제"
   ]
  },
  {
   "cell_type": "code",
   "execution_count": 53,
   "id": "90556efe-ee70-473c-ba0c-70c5be2a8fe9",
   "metadata": {},
   "outputs": [
    {
     "data": {
      "text/plain": [
       "(10, 1, 28, 28)"
      ]
     },
     "execution_count": 53,
     "metadata": {},
     "output_type": "execute_result"
    }
   ],
   "source": [
    "import numpy as np\n",
    "\n",
    "x = np.random.rand(10, 1, 28, 28) #높이 28 너비 28 채널 1 데이터 10\n",
    "x.shape"
   ]
  },
  {
   "cell_type": "code",
   "execution_count": 54,
   "id": "174416c0-9923-4162-ab63-156ab1df2c0b",
   "metadata": {},
   "outputs": [
    {
     "data": {
      "text/plain": [
       "(1, 28, 28)"
      ]
     },
     "execution_count": 54,
     "metadata": {},
     "output_type": "execute_result"
    }
   ],
   "source": [
    "x[0].shape"
   ]
  },
  {
   "cell_type": "code",
   "execution_count": 55,
   "id": "469230a9-31eb-4ac3-a24e-bdde50327d2a",
   "metadata": {},
   "outputs": [],
   "source": [
    "# x[0, 0]\n",
    "\n",
    "# array([[0.57815553, 0.68313083, 0.62716526, 0.50664272, 0.97832108,\n",
    "#         0.66660523, 0.98195606, 0.19604657, 0.85770642, 0.99375825,\n",
    "#         0.39941726, 0.40717357, 0.60560674, 0.58461899, 0.51636388,\n",
    "#         0.7799932 , 0.221066  , 0.44128729, 0.54017635, 0.87901173,\n",
    "#         0.8342617 , 0.2021888 , 0.70324414, 0.30168567, 0.25876091,\n",
    "#         0.73762666, 0.85439377, 0.75170196],\n",
    "#         ...\n",
    "\n",
    "# 결과가 너무 많아서 일부분만 주석으로 기록"
   ]
  },
  {
   "cell_type": "markdown",
   "id": "6c530363-e7ee-47a5-946a-61a1af2bac8f",
   "metadata": {},
   "source": [
    "합성곱 연산 구현의 문제점 - for문을 겹겹이 써야함\n",
    "넘파이에 for문을 사용하면 성능이 떨어진다는 단점도 있음\n",
    "\n",
    "im2col 함수를 사용한 구현\n",
    "입력 데이터를 필터링하기 좋게 전해하는 함수\n",
    "3차원 입력 데이터에 im2col을 적용하면 2차원 행렬도 바뀜\n",
    "메모리를 더 많이 소비하는 단점이 있음\n",
    "문제를 행렬 계산으로 만들면 선형 대수 라이브러리를 활용해 효율을 높일 수 있음"
   ]
  },
  {
   "cell_type": "markdown",
   "id": "e003b416-c575-421c-a845-34cf21d86c75",
   "metadata": {},
   "source": [
    "im2col 함수의 인터페이스\n",
    "im2col(input_data, filter_h, filter_w, stride=1, pad=0)"
   ]
  },
  {
   "cell_type": "code",
   "execution_count": 56,
   "id": "12301e57-5d09-43e4-b567-c11dcff9ff80",
   "metadata": {},
   "outputs": [],
   "source": [
    "import sys, os\n",
    "import numpy as np\n",
    "sys.path.append(os.pardir)\n",
    "from common.util import im2col"
   ]
  },
  {
   "cell_type": "code",
   "execution_count": 57,
   "id": "3b09bbb9-0ef5-4696-8651-85b9a74a88c9",
   "metadata": {},
   "outputs": [
    {
     "name": "stdout",
     "output_type": "stream",
     "text": [
      "(9, 75)\n"
     ]
    }
   ],
   "source": [
    "x1 = np.random.rand(1, 3, 7, 7) # 데이터 수, 채널 수, 높이, 너비\n",
    "col1 = im2col(x1, 5, 5, stride=1, pad=0)\n",
    "print(col1.shape)"
   ]
  },
  {
   "cell_type": "code",
   "execution_count": 58,
   "id": "be7d06d2-2855-4e35-b212-4d302420a11f",
   "metadata": {},
   "outputs": [
    {
     "name": "stdout",
     "output_type": "stream",
     "text": [
      "(90, 75)\n"
     ]
    }
   ],
   "source": [
    "x2 = np.random.rand(10, 3, 7, 7) # 데이터 수, 채널 수, 높이, 너비\n",
    "col2 = im2col(x2, 5, 5, stride=1, pad=0)\n",
    "print(col2.shape)"
   ]
  },
  {
   "cell_type": "markdown",
   "id": "1e4e21a3-8952-49dd-8067-343867b4eb7e",
   "metadata": {},
   "source": [
    "합성곱 계층은 필터(가중치), 편향, 스트라이드, 패딩을 인수로 받아 초기화한다.\n",
    "필터는 (FN, C, FH, FW)의 4차원 형상이다. FN = 필터의 개수, C = 채널, FH = 필터의 높이, FW = 필터의 너비"
   ]
  },
  {
   "cell_type": "code",
   "execution_count": 59,
   "id": "9f2e458d-a6cd-40ca-a7c5-7da42f866839",
   "metadata": {},
   "outputs": [],
   "source": [
    "class Convolution:\n",
    "    def __init__(self, W, b, stride=1, pad=0):\n",
    "        self.W = W\n",
    "        self.b = b\n",
    "        self.stride = stride\n",
    "        self.pad = pad\n",
    "\n",
    "    def forward(self, x):\n",
    "        FN, C, FH, FW = self.W.shape\n",
    "        N, C, H, W = x.shape\n",
    "        out_h = 1 + int((H + 2*self.pad - FH) / self.stride)\n",
    "        out_w = 1 + int((W + 2*self.pad - FW) / self.stride)\n",
    "\n",
    "        col = im2col(x, FH, FW, self.stride, self.pad) # 1. 입력데이터를 im2col로 전개\n",
    "        col_W =self.W.reshape(FN, -1).T # 2. 필터도 reshape을 사용해 2차원 배열로 전개\n",
    "                                        # reshape에 -1을 지정하면 다차원 배열의 원소 수가 변환 후에도 똑같이 유지 되도록 적절히 묶어줌\n",
    "        out = np.dot(col, col_W) + self.b # 3. 전개한 두 행렬의 곱을 구함\n",
    "\n",
    "        out = out.reshape(N, out_h, out_w, -1).transpose(0, 3, 1, 2) # 4. 출력 데이터를 적절한 형상으로 바꿔줌\n",
    "                                                                    # transpose 함수를 사용하여 다차원 배열의 축 순서를 바꿈\n",
    "        return out"
   ]
  },
  {
   "cell_type": "markdown",
   "id": "e0d2d786-b70a-48c9-a80d-54bd17f144a8",
   "metadata": {},
   "source": [
    "폴링 계층의 구현 세 단계\n",
    "1. 입력 데이터를 전개한다.\n",
    "2. 행별 최댓값을 구한다.\n",
    "3. 적절한 모양으로 성형한다."
   ]
  },
  {
   "cell_type": "code",
   "execution_count": 60,
   "id": "3c6e78ce-a034-4b80-abd6-33472b76886b",
   "metadata": {},
   "outputs": [],
   "source": [
    "class Pooling:\n",
    "    def __init__(self, pool_h, pool_w, stride=1, pad=0):\n",
    "        self.pool_h = pool_h\n",
    "        self.pool_w = pool_w\n",
    "        self.stride = stride\n",
    "        self.pad = pad\n",
    "\n",
    "    def forward(self, x):\n",
    "        N, C, H, W = x.shape\n",
    "        out_h = int(1 + (H - self.pool.h) / self.stride)\n",
    "        out_w = int(1 + (W - self.pool.w) / self.stride)\n",
    "\n",
    "        # (1) 전개\n",
    "        col = im2col(x, self.pool_h, self.pool_w, self.stride, self.pad)\n",
    "        col = col.reshape(-1, self.pool_h * self.pool_w)\n",
    "\n",
    "        # (2) 최댓값\n",
    "        out = np.max(col, axis=1)\n",
    "\n",
    "        # (3) 성형\n",
    "        out = out.reshape(N, out_h, out_w, C).transpose(0, 3, 1, 2)\n",
    "\n",
    "        return out"
   ]
  },
  {
   "cell_type": "markdown",
   "id": "3abefaa0-7584-4c46-b833-7e35f88edcee",
   "metadata": {},
   "source": [
    "CNN 계층 구현하기\n",
    "다음과 같은 CNN을 구현한다.\n",
    "Convolution(입력 데이터의 특징을 추출) -> ReLU -> Pooling(적절한 모양으로 성형) -> Affine(행렬곱 연산) -> ReLU -> Affine -> Softmax"
   ]
  },
  {
   "cell_type": "code",
   "execution_count": 61,
   "id": "1a3f6178-7057-4e05-815d-87dbb54c03e0",
   "metadata": {},
   "outputs": [],
   "source": [
    "# coding: utf-8\n",
    "import sys, os\n",
    "sys.path.append(os.pardir)  # 부모 디렉터리의 파일을 가져올 수 있도록 설정\n",
    "import pickle\n",
    "import numpy as np\n",
    "from collections import OrderedDict\n",
    "from common.layers import *\n",
    "from common.gradient import numerical_gradient\n",
    "\n",
    "\n",
    "class SimpleConvNet:\n",
    "    def __init__(self, input_dim=(1, 28, 28), \n",
    "                 conv_param={'filter_num':30, 'filter_size':5, 'pad':0, 'stride':1},\n",
    "                 hidden_size=100, output_size=10, weight_init_std=0.01):\n",
    "        filter_num = conv_param['filter_num']\n",
    "        filter_size = conv_param['filter_size']\n",
    "        filter_pad = conv_param['pad']\n",
    "        filter_stride = conv_param['stride']\n",
    "        input_size = input_dim[1]\n",
    "        conv_output_size = (input_size - filter_size + 2*filter_pad) / filter_stride + 1\n",
    "        pool_output_size = int(filter_num * (conv_output_size/2) * (conv_output_size/2))\n",
    "\n",
    "        # 가중치 초기화\n",
    "        self.params = {}\n",
    "        self.params['W1'] = weight_init_std * \\\n",
    "                            np.random.randn(filter_num, input_dim[0], filter_size, filter_size)\n",
    "        self.params['b1'] = np.zeros(filter_num)\n",
    "        self.params['W2'] = weight_init_std * \\\n",
    "                            np.random.randn(pool_output_size, hidden_size)\n",
    "        self.params['b2'] = np.zeros(hidden_size)\n",
    "        self.params['W3'] = weight_init_std * \\\n",
    "                            np.random.randn(hidden_size, output_size)\n",
    "        self.params['b3'] = np.zeros(output_size)\n",
    "\n",
    "        # 계층 생성\n",
    "        self.layers = OrderedDict()\n",
    "        self.layers['Conv1'] = Convolution(self.params['W1'], self.params['b1'],\n",
    "                                           conv_param['stride'], conv_param['pad'])\n",
    "        self.layers['Relu1'] = Relu()\n",
    "        self.layers['Pool1'] = Pooling(pool_h=2, pool_w=2, stride=2)\n",
    "        self.layers['Affine1'] = Affine(self.params['W2'], self.params['b2'])\n",
    "        self.layers['Relu2'] = Relu()\n",
    "        self.layers['Affine2'] = Affine(self.params['W3'], self.params['b3'])\n",
    "\n",
    "        self.last_layer = SoftmaxWithLoss()\n",
    "\n",
    "    def predict(self, x):\n",
    "        for layer in self.layers.values():\n",
    "            x = layer.forward(x)\n",
    "\n",
    "        return x\n",
    "\n",
    "    def loss(self, x, t):\n",
    "        y = self.predict(x)\n",
    "        return self.last_layer.forward(y, t)\n",
    "\n",
    "    def accuracy(self, x, t, batch_size=100):\n",
    "        if t.ndim != 1 : t = np.argmax(t, axis=1)\n",
    "        \n",
    "        acc = 0.0\n",
    "        \n",
    "        for i in range(int(x.shape[0] / batch_size)):\n",
    "            tx = x[i*batch_size:(i+1)*batch_size]\n",
    "            tt = t[i*batch_size:(i+1)*batch_size]\n",
    "            y = self.predict(tx)\n",
    "            y = np.argmax(y, axis=1)\n",
    "            acc += np.sum(y == tt) \n",
    "        \n",
    "        return acc / x.shape[0]\n",
    "\n",
    "    def numerical_gradient(self, x, t):\n",
    "        loss_w = lambda w: self.loss(x, t)\n",
    "\n",
    "        grads = {}\n",
    "        for idx in (1, 2, 3):\n",
    "            grads['W' + str(idx)] = numerical_gradient(loss_w, self.params['W' + str(idx)])\n",
    "            grads['b' + str(idx)] = numerical_gradient(loss_w, self.params['b' + str(idx)])\n",
    "\n",
    "        return grads\n",
    "\n",
    "    def gradient(self, x, t):\n",
    "        # forward\n",
    "        self.loss(x, t)\n",
    "\n",
    "        # backward\n",
    "        dout = 1\n",
    "        dout = self.last_layer.backward(dout)\n",
    "\n",
    "        layers = list(self.layers.values())\n",
    "        layers.reverse()\n",
    "        for layer in layers:\n",
    "            dout = layer.backward(dout)\n",
    "\n",
    "        # 결과 저장\n",
    "        grads = {}\n",
    "        grads['W1'], grads['b1'] = self.layers['Conv1'].dW, self.layers['Conv1'].db\n",
    "        grads['W2'], grads['b2'] = self.layers['Affine1'].dW, self.layers['Affine1'].db\n",
    "        grads['W3'], grads['b3'] = self.layers['Affine2'].dW, self.layers['Affine2'].db\n",
    "\n",
    "        return grads\n",
    "        \n",
    "    def save_params(self, file_name=\"params.pkl\"):\n",
    "        params = {}\n",
    "        for key, val in self.params.items():\n",
    "            params[key] = val\n",
    "        with open(file_name, 'wb') as f:\n",
    "            pickle.dump(params, f)\n",
    "\n",
    "    def load_params(self, file_name=\"params.pkl\"):\n",
    "        with open(file_name, 'rb') as f:\n",
    "            params = pickle.load(f)\n",
    "        for key, val in params.items():\n",
    "            self.params[key] = val\n",
    "\n",
    "        for i, key in enumerate(['Conv1', 'Affine1', 'Affine2']):\n",
    "            self.layers[key].W = self.params['W' + str(i+1)]\n",
    "            self.layers[key].b = self.params['b' + str(i+1)]\n"
   ]
  },
  {
   "cell_type": "markdown",
   "id": "a54c1906-db1a-4d84-bcba-268b337584d3",
   "metadata": {},
   "source": [
    "SimpleConvNet 의 초기화\r",
    " conv_param – 합성곱 계층의 하이퍼파라미터는 딕셔너리 형태로 주어짐• weight_init_std – 초기화 때의 가중치 표준\n",
    "\n",
    "가중치 매개변수를 초기화\r",
    " 학습에 필요한 매개변수는 1번째 층의 합성곱 계층과 나머지 두 완전연결 계층의 가중치 \r\n",
    "편향. 이 매개변수들을 인스턴스 변수 params 딕셔너리에 저장\n",
    "▪ 1, 2, 3 층의 가중치와 편향을 키로 각각 \n",
    "\n",
    "CNN을 구성하는 계층들을 생성\r",
    " 순서가 있는 딕셔너리인 layers에 계층들을 차례대로 추가함▪ 마지막 SoftmaxWithLoss 계층만큼은 last_layer라는 별도 변수에 저\n",
    "\n",
    "추론을 수행하는 predict 메서드\r",
    " 초기화 때 layers 에 추가한 계층을 맨 앞에서부터 차례로 forward 메서드를 호출▪ 그 결과를 다음 계층에 \n",
    "\n",
    "손실 함수를 구하는 loss 메서드\r",
    " 인수 x는 입력 데이터, t 는 정답 레이블▪ predict 메서드의 결과를 인수로 마지막 층의 forward 메서드를 호\n",
    "▪ 첫 계층부터 마지막 계층까지 fordwar를\n",
    "\n",
    "오차역전파법으로 기울기 구현\r",
    " 매개변수의 기울기는 오차역전파법으로 구함▪ 순전파와 역전파를 반\n",
    "▪ grads라는 딕셔너리 변수에 각 가중치\r\n",
    "매개변수의 기울기악함을 볼수 있음 처리전달장함저장함편차"
   ]
  },
  {
   "cell_type": "code",
   "execution_count": null,
   "id": "25ea6cfd-ac71-4ea6-b9ca-7deee7e84150",
   "metadata": {
    "scrolled": true
   },
   "outputs": [],
   "source": [
    "# coding: utf-8\n",
    "import sys, os\n",
    "sys.path.append(os.pardir)  # 부모 디렉터리의 파일을 가져올 수 있도록 설정\n",
    "import numpy as np\n",
    "import matplotlib.pyplot as plt\n",
    "from dataset.mnist import load_mnist\n",
    "from common.trainer import Trainer\n",
    "\n",
    "# 데이터 읽기\n",
    "(x_train, t_train), (x_test, t_test) = load_mnist(flatten=False)\n",
    "\n",
    "# 시간이 오래 걸릴 경우 데이터를 줄인다.\n",
    "x_train, t_train = x_train[:5000], t_train[:5000]\n",
    "x_test, t_test = x_test[:1000], t_test[:1000]\n",
    "\n",
    "max_epochs = 10\n",
    "\n",
    "network = SimpleConvNet(input_dim=(1,28,28), \n",
    "                        conv_param = {'filter_num': 30, 'filter_size': 5, 'pad': 0, 'stride': 1},\n",
    "                        hidden_size=100, output_size=10, weight_init_std=0.01)\n",
    "                        \n",
    "trainer = Trainer(network, x_train, t_train, x_test, t_test,\n",
    "                  epochs=max_epochs, mini_batch_size=100,\n",
    "                  optimizer='Adam', optimizer_param={'lr': 0.001},\n",
    "                  evaluate_sample_num_per_epoch=1000)\n",
    "trainer.train()\n",
    "\n",
    "# 매개변수 보존\n",
    "network.save_params(\"params.pkl\")\n",
    "print(\"Saved Network Parameters!\")"
   ]
  },
  {
   "cell_type": "markdown",
   "id": "4f6f32c0-5525-4987-8754-297f232eb8f9",
   "metadata": {},
   "source": [
    "출력 결과가 너무 길어서 문서에 별도 첨부"
   ]
  },
  {
   "cell_type": "code",
   "execution_count": 63,
   "id": "c2df8a7e-302c-4170-beb9-1958e219122d",
   "metadata": {},
   "outputs": [
    {
     "data": {
      "image/png": "[encoded data removed]",
      "text/plain": [
       "<Figure size 640x480 with 1 Axes>"
      ]
     },
     "metadata": {},
     "output_type": "display_data"
    }
   ],
   "source": [
    "# 그래프 그리기\n",
    "markers = {'train': 'o', 'test': 's'}\n",
    "x = np.arange(max_epochs)\n",
    "plt.plot(x, trainer.train_acc_list, marker='o', label='train', markevery=2)\n",
    "plt.plot(x, trainer.test_acc_list, marker='s', label='test', markevery=2)\n",
    "plt.xlabel(\"epochs\")\n",
    "plt.ylabel(\"accuracy\")\n",
    "plt.ylim(0, 1.0)\n",
    "plt.legend(loc='lower right')\n",
    "plt.show()"
   ]
  }
 ],
 "metadata": {
  "kernelspec": {
   "display_name": "Python 3 (ipykernel)",
   "language": "python",
   "name": "python3"
  },
  "language_info": {
   "codemirror_mode": {
    "name": "ipython",
    "version": 3
   },
   "file_extension": ".py",
   "mimetype": "text/x-python",
   "name": "python",
   "nbconvert_exporter": "python",
   "pygments_lexer": "ipython3",
   "version": "3.11.7"
  }
 },
 "nbformat": 4,
 "nbformat_minor": 5
}
