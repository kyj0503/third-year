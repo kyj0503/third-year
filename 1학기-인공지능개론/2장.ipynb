{
 "cells": [
  {
   "cell_type": "markdown",
   "id": "c51c7385",
   "metadata": {},
   "source": [
    "소프트웨어 202284011 김연재\n",
    "2장 학습내용"
   ]
  },
  {
   "cell_type": "code",
   "execution_count": 2,
   "id": "20f33fcb-09c6-4295-85b6-6eaa05af0d92",
   "metadata": {},
   "outputs": [],
   "source": [
    "def AND(x1, x2):\n",
    "    w1, w2, theta = 1, 1, 1.5\n",
    "    tmp = x1*w1 + x2*w2\n",
    "    if tmp <= theta:\n",
    "        return 0\n",
    "    elif tmp > theta:\n",
    "        return 1"
   ]
  },
  {
   "cell_type": "code",
   "execution_count": 4,
   "id": "ccab246c-38c7-43cf-92fa-56e2daf59acb",
   "metadata": {},
   "outputs": [
    {
     "name": "stdout",
     "output_type": "stream",
     "text": [
      "(0,0) =  0\n",
      "(1,0) =  0\n",
      "(0,1) =  0\n",
      "(1,1) =  1\n"
     ]
    }
   ],
   "source": [
    "print('(0,0) = ', AND(0,0))\n",
    "print('(1,0) = ', AND(1,0))\n",
    "print('(0,1) = ', AND(0,1))\n",
    "print('(1,1) = ', AND(1,1))"
   ]
  },
  {
   "cell_type": "code",
   "execution_count": 7,
   "id": "65181239",
   "metadata": {},
   "outputs": [],
   "source": [
    "def OR(x1, x2):\n",
    "    w1, w2, theta = 10,10,5\n",
    "    tmp = x1*w1 + x2*w2\n",
    "    if tmp <= theta:\n",
    "        return 0\n",
    "    elif tmp > theta:\n",
    "        return 1"
   ]
  },
  {
   "cell_type": "code",
   "execution_count": 8,
   "id": "953e2818",
   "metadata": {},
   "outputs": [
    {
     "name": "stdout",
     "output_type": "stream",
     "text": [
      "(0,0) =  0\n",
      "(1,0) =  1\n",
      "(0,1) =  1\n",
      "(1,1) =  1\n"
     ]
    }
   ],
   "source": [
    "print('(0,0) = ', OR(0,0))\n",
    "print('(1,0) = ', OR(1,0))\n",
    "print('(0,1) = ', OR(0,1))\n",
    "print('(1,1) = ', OR(1,1))"
   ]
  },
  {
   "cell_type": "code",
   "execution_count": 1,
   "id": "701b2304",
   "metadata": {},
   "outputs": [],
   "source": [
    "#가중치와 편향을 도입한 게이트 구현\n",
    "import numpy as np\n",
    "\n",
    "def AND(x1, x2):\n",
    "    x = np.array([x1, x2])\n",
    "    w = np.array([0.4, 0.4])\n",
    "    b = -0.6\n",
    "    tmp = np.sum(w*x) + b\n",
    "    if tmp <= 0:\n",
    "        return 0\n",
    "    else:\n",
    "        return 1\n",
    "\n",
    "def NAND(x1, x2):\n",
    "    x = np.array([x1, x2])\n",
    "    w = np.array([-0.4, -0.4])\n",
    "    b = 0.6\n",
    "    tmp = np.sum(w*x) + b\n",
    "    if tmp <= 0:\n",
    "        return 0\n",
    "    else:\n",
    "        return 1\n",
    "    \n",
    "def OR(x1, x2):\n",
    "    x = np.array([x1, x2])\n",
    "    w = np.array([0.8, 0.8])\n",
    "    b = -0.6\n",
    "    tmp = np.sum(w*x) + b\n",
    "    if tmp <= 0:\n",
    "        return 0\n",
    "    else:\n",
    "        return 1"
   ]
  },
  {
   "cell_type": "code",
   "execution_count": 34,
   "id": "6b59d682",
   "metadata": {},
   "outputs": [
    {
     "name": "stdout",
     "output_type": "stream",
     "text": [
      "입력 값: (0, 0) 출력 값: 0\n",
      "입력 값: (1, 0) 출력 값: 1\n",
      "입력 값: (0, 1) 출력 값: 1\n",
      "입력 값: (1, 1) 출력 값: 0\n"
     ]
    }
   ],
   "source": [
    "import numpy as np\n",
    " \n",
    "# 가중치와 바이어스\n",
    "w11 = np.array([-2, -2])\n",
    "w12 = np.array([2, 2])\n",
    "w2 = np.array([1, 1])\n",
    "b1 = 3\n",
    "b2 = -1\n",
    "b3 = -1\n",
    " \n",
    "# 퍼셉트론\n",
    "def perceptron(x, w, b):\n",
    "    y = np.sum(w * x) + b\n",
    "    if y <= 0:\n",
    "        return 0\n",
    "    else:\n",
    "        return 1\n",
    " \n",
    "# NAND 게이트\n",
    "def NAND(x1, x2):\n",
    "    return perceptron(np.array([x1, x2]), w11, b1)\n",
    " \n",
    "# OR 게이트\n",
    "def OR(x1, x2):\n",
    "    return perceptron(np.array([x1, x2]), w12, b2)\n",
    " \n",
    "# AND 게이트\n",
    "def AND(x1, x2):\n",
    "    return perceptron(np.array([x1, x2]), w2, b3)\n",
    " \n",
    "# XOR 게이트\n",
    "def XOR(x1, x2):\n",
    "    return AND(NAND(x1, x2),OR(x1, x2))\n",
    " \n",
    "# x1, x2 값을 번갈아 대입하며 최종값 출력\n",
    "if __name__ == '__main__':\n",
    "    for x in [(0, 0), (1, 0), (0, 1), (1, 1)]:\n",
    "        y = XOR(x[0], x[1])\n",
    "        print(\"입력 값: \" + str(x) + \" 출력 값: \" + str(y))"
   ]
  }
 ],
 "metadata": {
  "kernelspec": {
   "display_name": "Python 3 (ipykernel)",
   "language": "python",
   "name": "python3"
  },
  "language_info": {
   "codemirror_mode": {
    "name": "ipython",
    "version": 3
   },
   "file_extension": ".py",
   "mimetype": "text/x-python",
   "name": "python",
   "nbconvert_exporter": "python",
   "pygments_lexer": "ipython3",
   "version": "3.12.2"
  }
 },
 "nbformat": 4,
 "nbformat_minor": 5
}
